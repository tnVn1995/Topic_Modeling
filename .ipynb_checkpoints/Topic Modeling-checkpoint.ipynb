{
 "cells": [
  {
   "cell_type": "markdown",
   "metadata": {},
   "source": [
    "# Topic Modeling with Latent Dirichlet Allocation(LDA)\n",
    "\n"
   ]
  },
  {
   "cell_type": "code",
   "execution_count": 73,
   "metadata": {
    "ExecuteTime": {
     "end_time": "2020-04-11T18:07:27.875190Z",
     "start_time": "2020-04-11T18:07:23.729604Z"
    }
   },
   "outputs": [],
   "source": [
    "import pandas as pd\n",
    "import numpy as np\n",
    "from pathlib import Path\n",
    "\n",
    "# Data processing\n",
    "import nltk\n",
    "import gensim\n",
    "\n",
    "#Visualization\n",
    "import matplotlib.pyplot as plt"
   ]
  },
  {
   "cell_type": "markdown",
   "metadata": {
    "ExecuteTime": {
     "end_time": "2020-04-11T00:36:50.385201Z",
     "start_time": "2020-04-11T00:36:50.380215Z"
    },
    "heading_collapsed": true
   },
   "source": [
    "## Data Preprocessing"
   ]
  },
  {
   "cell_type": "code",
   "execution_count": 17,
   "metadata": {
    "ExecuteTime": {
     "end_time": "2020-04-11T00:45:48.319946Z",
     "start_time": "2020-04-11T00:45:48.087998Z"
    },
    "hidden": true
   },
   "outputs": [
    {
     "name": "stdout",
     "output_type": "stream",
     "text": [
      "The number of articles is: 1740\n"
     ]
    }
   ],
   "source": [
    "data_path = Path('./data/nipstxt/')\n",
    "folders = list(data_path.glob('*nips*'))\n",
    "papers = []\n",
    "for folder in folders:\n",
    "    for file in list(folder.glob('*')):\n",
    "        with open(file, encoding='utf-8', errors='ignore', mode='r+') as f:\n",
    "            data = f.read()\n",
    "        papers.append(data)\n",
    "print(f'The number of articles is: {len(papers)}')            "
   ]
  },
  {
   "cell_type": "markdown",
   "metadata": {
    "hidden": true
   },
   "source": [
    "Let's peek into the data"
   ]
  },
  {
   "cell_type": "code",
   "execution_count": 18,
   "metadata": {
    "ExecuteTime": {
     "end_time": "2020-04-11T00:48:25.977367Z",
     "start_time": "2020-04-11T00:48:25.972392Z"
    },
    "hidden": true
   },
   "outputs": [
    {
     "name": "stdout",
     "output_type": "stream",
     "text": [
      "1 \n",
      "CONNECTIVITY VERSUS ENTROPY \n",
      "Yaser S. Abu-Mostafa \n",
      "California Institute of Technology \n",
      "Pasadena, CA 91125 \n",
      "ABSTRACT \n",
      "How does the connectivity of a neural network (number of synapses per \n",
      "neuron) relate to the complexity of the problems it can handle (measured by \n",
      "the entropy)? Switching theory would suggest no relation at all, since all Boolean \n",
      "functions can be implemented using a circuit with very low connectivity (e.g., \n",
      "using two-input NAND gates). However, for a network that learns a problem \n",
      "from examples using a local learning rule, we prove that the entropy of the \n",
      "problem becomes a lower bound for the connectivity of the network. \n",
      "INTRODUCTION \n",
      "The most distinguishing feature of neural networks is their ability to spon- \n",
      "taneously learn the desired function from 'training' samples, i.e., their ability \n",
      "to program themselves. Clearly, a given neural network cannot just learn any \n",
      "function, there must be some restrictions on which networks can learn which \n",
      "functions. One obv\n"
     ]
    }
   ],
   "source": [
    "print(papers[0][:1000])"
   ]
  },
  {
   "cell_type": "markdown",
   "metadata": {
    "heading_collapsed": true,
    "hidden": true
   },
   "source": [
    "### Text Normalization"
   ]
  },
  {
   "cell_type": "code",
   "execution_count": 19,
   "metadata": {
    "ExecuteTime": {
     "end_time": "2020-04-11T00:52:02.756898Z",
     "start_time": "2020-04-11T00:51:39.523082Z"
    },
    "hidden": true
   },
   "outputs": [],
   "source": [
    "stop_words = nltk.corpus.stopwords.words('english')\n",
    "wtk = nltk.tokenize.RegexpTokenizer(r'\\w+')\n",
    "wnl = nltk.stem.wordnet.WordNetLemmatizer()"
   ]
  },
  {
   "cell_type": "code",
   "execution_count": 20,
   "metadata": {
    "ExecuteTime": {
     "end_time": "2020-04-11T01:10:25.576940Z",
     "start_time": "2020-04-11T01:09:46.083288Z"
    },
    "hidden": true
   },
   "outputs": [],
   "source": [
    "def normalize_corpus(papers):\n",
    "    \"\"\"Tokenize, lemmatize, remove stopwords and terms with less than 1 character\"\"\"\n",
    "    norm_papers = []\n",
    "    for paper in papers:\n",
    "        paper = paper.lower()\n",
    "        paper_tokens = [token.strip() for token in wtk.tokenize(paper)]\n",
    "        paper_tokens = [wnl.lemmatize(token) for token in paper_tokens if not token.isnumeric()]\n",
    "        paper_tokens = [token for token in paper_tokens if len(token) > 1]\n",
    "        paper_tokens = [token for token in paper_tokens if token not in stop_words]\n",
    "        paper_tokens = list(filter(None, paper_tokens))\n",
    "        if paper_tokens:\n",
    "            norm_papers.append(paper_tokens)\n",
    "    return norm_papers\n",
    "\n",
    "norm_papers = normalize_corpus(papers)"
   ]
  },
  {
   "cell_type": "code",
   "execution_count": 27,
   "metadata": {
    "ExecuteTime": {
     "end_time": "2020-04-11T01:13:32.060951Z",
     "start_time": "2020-04-11T01:13:32.055965Z"
    },
    "hidden": true
   },
   "outputs": [
    {
     "name": "stdout",
     "output_type": "stream",
     "text": [
      "Sample tokenized texts:\n",
      " ['connectivity', 'versus', 'entropy', 'yaser', 'abu', 'mostafa', 'california', 'institute', 'technology', 'pasadena', 'ca', 'abstract', 'doe', 'connectivity', 'neural', 'network', 'number', 'synapsis', 'per', 'neuron']\n"
     ]
    }
   ],
   "source": [
    "print(f'Sample tokenized texts:\\n {norm_papers[0][0:20]}')"
   ]
  },
  {
   "cell_type": "markdown",
   "metadata": {
    "hidden": true
   },
   "source": [
    "Generating bigrams"
   ]
  },
  {
   "cell_type": "code",
   "execution_count": 30,
   "metadata": {
    "ExecuteTime": {
     "end_time": "2020-04-11T01:23:04.465168Z",
     "start_time": "2020-04-11T01:22:41.670422Z"
    },
    "hidden": true
   },
   "outputs": [
    {
     "name": "stdout",
     "output_type": "stream",
     "text": [
      "['connectivity', 'versus', 'entropy', 'yaser', 'abu_mostafa', 'california_institute', 'technology_pasadena', 'ca_abstract', 'doe', 'connectivity', 'neural_network', 'number', 'synapsis', 'per', 'neuron', 'relate', 'complexity', 'problem', 'handle', 'measured', 'entropy', 'switching', 'theory', 'would', 'suggest', 'relation', 'since', 'boolean_function', 'implemented', 'using', 'circuit', 'low', 'connectivity', 'using', 'two', 'input', 'nand', 'gate', 'however', 'network', 'learns', 'problem', 'example', 'using', 'local', 'learning_rule', 'prove', 'entropy', 'problem', 'becomes']\n"
     ]
    }
   ],
   "source": [
    "# ignore words and bigrams with total count less than 20 accross the text corpus\n",
    "bigram = gensim.models.Phrases(norm_papers, min_count=20, delimiter=b'_')\n",
    "bigram_model = gensim.models.phrases.Phraser(bigram)\n",
    "# \n",
    "normalize_corpus_bigram = [bigram_model[doc] for doc in norm_papers]"
   ]
  },
  {
   "cell_type": "markdown",
   "metadata": {
    "hidden": true
   },
   "source": [
    "The bigrams generated from gensim model are two-word phrases. For example, california_institute, technology_pasadena are two bigrams."
   ]
  },
  {
   "cell_type": "code",
   "execution_count": 36,
   "metadata": {
    "ExecuteTime": {
     "end_time": "2020-04-11T07:34:04.954865Z",
     "start_time": "2020-04-11T07:34:04.947885Z"
    },
    "hidden": true
   },
   "outputs": [
    {
     "name": "stdout",
     "output_type": "stream",
     "text": [
      "Sample text corpus after generating bigrams:\n"
     ]
    },
    {
     "data": {
      "text/plain": [
       "['connectivity',\n",
       " 'versus',\n",
       " 'entropy',\n",
       " 'yaser',\n",
       " 'abu_mostafa',\n",
       " 'california_institute',\n",
       " 'technology_pasadena',\n",
       " 'ca_abstract',\n",
       " 'doe',\n",
       " 'connectivity']"
      ]
     },
     "execution_count": 36,
     "metadata": {},
     "output_type": "execute_result"
    }
   ],
   "source": [
    "print('Sample text corpus after generating bigrams:')\n",
    "normalize_corpus_bigram[0][0:10]"
   ]
  },
  {
   "cell_type": "markdown",
   "metadata": {
    "hidden": true
   },
   "source": [
    "Since the model doesn't understand words, we'll vectorize our text corpus to feed in the model."
   ]
  },
  {
   "cell_type": "code",
   "execution_count": 38,
   "metadata": {
    "ExecuteTime": {
     "end_time": "2020-04-11T07:35:47.076451Z",
     "start_time": "2020-04-11T07:35:43.557890Z"
    },
    "hidden": true
   },
   "outputs": [
    {
     "name": "stdout",
     "output_type": "stream",
     "text": [
      "Sample word to number mappings: [(0, '0a'), (1, '2h'), (2, '2h2'), (3, '2he'), (4, '2n'), (5, '__c'), (6, '_c'), (7, '_k'), (8, 'a2'), (9, 'ability'), (10, 'abu_mostafa'), (11, 'access'), (12, 'accommodate'), (13, 'according'), (14, 'accumulated')]\n",
      "Total Vocabulary Size: 79687\n"
     ]
    }
   ],
   "source": [
    "dictionary = gensim.corpora.Dictionary(normalize_corpus_bigram)\n",
    "print('Sample word to number mappings:', list(dictionary.items())[:15])\n",
    "print('Total Vocabulary Size:', len(dictionary))"
   ]
  },
  {
   "cell_type": "markdown",
   "metadata": {
    "hidden": true
   },
   "source": [
    "Now each word is represented by an integer. We have 79687 unique words in our corpus, which corresponds to 79687 unique integers. However, many words in this corpus are not useful in our topic modeling task - we are trying to differentiate topics within our corpus. If words appear too frequent or too infrequent, they will not contribute much to differentiating different topics as they are either too general or too specific. So we'll remove these words"
   ]
  },
  {
   "cell_type": "code",
   "execution_count": 39,
   "metadata": {
    "ExecuteTime": {
     "end_time": "2020-04-11T07:46:53.131868Z",
     "start_time": "2020-04-11T07:46:52.928302Z"
    },
    "hidden": true
   },
   "outputs": [
    {
     "name": "stdout",
     "output_type": "stream",
     "text": [
      "Total Vocabulary Size: 8240\n"
     ]
    }
   ],
   "source": [
    "# Filter out words that appear in less than 20 documents \n",
    "# and more than 60% of the documents in our corpus\n",
    "dictionary.filter_extremes(no_below=20, no_above=0.6)\n",
    "print('Total Vocabulary Size:', len(dictionary))"
   ]
  },
  {
   "cell_type": "markdown",
   "metadata": {
    "heading_collapsed": true,
    "hidden": true
   },
   "source": [
    "### Feature Engineering"
   ]
  },
  {
   "cell_type": "markdown",
   "metadata": {
    "hidden": true
   },
   "source": [
    "#### Bag of Words"
   ]
  },
  {
   "cell_type": "code",
   "execution_count": 41,
   "metadata": {
    "ExecuteTime": {
     "end_time": "2020-04-11T07:49:25.337899Z",
     "start_time": "2020-04-11T07:49:23.436293Z"
    },
    "hidden": true
   },
   "outputs": [
    {
     "name": "stdout",
     "output_type": "stream",
     "text": [
      "[(12, 3), (14, 1), (15, 1), (16, 1), (17, 13), (20, 1), (24, 1), (26, 1), (31, 3), (35, 1), (36, 1), (40, 3), (41, 5), (48, 1), (53, 1), (55, 1), (56, 2), (58, 1), (60, 3), (63, 5), (64, 4), (65, 2), (73, 1), (74, 1), (75, 1), (76, 1), (77, 3), (82, 1), (83, 4), (84, 1), (85, 1), (86, 2), (90, 2), (97, 2), (98, 3), (107, 1), (111, 1), (121, 2), (122, 4), (123, 2), (126, 2), (129, 1), (133, 1), (134, 1), (136, 6), (137, 1), (145, 1), (147, 1), (149, 1), (153, 5)]\n"
     ]
    }
   ],
   "source": [
    "bow_corpus = [dictionary.doc2bow(text) for text in normalize_corpus_bigram]\n",
    "print(bow_corpus[1][:50])"
   ]
  },
  {
   "cell_type": "code",
   "execution_count": 42,
   "metadata": {
    "ExecuteTime": {
     "end_time": "2020-04-11T07:50:14.318498Z",
     "start_time": "2020-04-11T07:50:14.256811Z"
    },
    "hidden": true
   },
   "outputs": [
    {
     "name": "stdout",
     "output_type": "stream",
     "text": [
      "[('aip', 3), ('although', 1), ('american_institute', 1), ('amount', 1), ('analog', 13), ('appears', 1), ('architecture', 1), ('aspect', 1), ('available', 3), ('become', 1), ('becomes', 1), ('binary', 3), ('biological', 5), ('cannot', 1), ('circuit', 1), ('collective', 1), ('compare', 2), ('complex', 1), ('computing', 3), ('conference', 5), ('connected', 4), ('connectivity', 2), ('define', 1), ('defined', 1), ('defines', 1), ('definition', 1), ('denker', 3), ('designed', 1), ('desired', 4), ('diagonal', 1), ('difference', 1), ('directly', 2), ('doe', 2), ('el', 2), ('element', 3), ('equivalent', 1), ('eventually', 1), ('feature', 2), ('final', 4), ('find', 2), ('fixed', 2), ('furthermore', 1), ('generating', 1), ('get', 1), ('global', 6), ('go', 1), ('hence', 1), ('hold', 1), ('idea', 1), ('implemented', 5)]\n"
     ]
    }
   ],
   "source": [
    "# Words and their frequencies, respectively\n",
    "print([(dictionary[idx] , freq) for idx, freq in bow_corpus[1][:50]])"
   ]
  },
  {
   "cell_type": "markdown",
   "metadata": {},
   "source": [
    "## LDA for Topic Modeling"
   ]
  },
  {
   "cell_type": "markdown",
   "metadata": {
    "ExecuteTime": {
     "end_time": "2020-04-11T08:04:35.167545Z",
     "start_time": "2020-04-11T08:01:37.266891Z"
    }
   },
   "source": [
    "For LDA, the number of topics in the text corpus is a hyperparameter to tune. We'll tune our model for topics from 2 to 40 to see which number of topics will best represent our text corpus. We'll use coherence value (cv) as our evaluating parameters. The higher the cv, the better the model in differentiating topics."
   ]
  },
  {
   "cell_type": "code",
   "execution_count": 78,
   "metadata": {
    "ExecuteTime": {
     "end_time": "2020-04-11T18:34:42.387010Z",
     "start_time": "2020-04-11T18:08:21.646657Z"
    }
   },
   "outputs": [],
   "source": [
    "def compute_coherence_values(dictionary, corpus, texts, limit, start=2, step=3):\n",
    "    \"\"\"\n",
    "    Compute c_v coherence for various number of topics\n",
    "\n",
    "    Inputs:\n",
    "    ----------\n",
    "    dictionary : Gensim dictionary\n",
    "    corpus : Gensim corpus\n",
    "    texts : List of input texts\n",
    "    limit : Max num of topics\n",
    "\n",
    "    Outputs:\n",
    "    -------\n",
    "    model_list : List of LDA topic models\n",
    "    coherence_values : Coherence values corresponding to the LDA model with respective number of topics\n",
    "    \"\"\"\n",
    "    coherence_values = []\n",
    "    perplexity_values = []\n",
    "    model_list = []\n",
    "    for num_topics in range(start, limit, step):\n",
    "        # Creating a model for num_topics\n",
    "        model = gensim.models.LdaModel(corpus=bow_corpus, id2word=dictionary, chunksize=1740,\n",
    "                                   alpha=\"auto\", eta=\"auto\", random_state=42, \n",
    "                                   iterations=500, num_topics=num_topics, passes=20, \n",
    "                                   eval_every=None)\n",
    "        model_list.append(model)\n",
    "        # Computing coherence score\n",
    "        coherencemodel = gensim.models.CoherenceModel(model=model, \n",
    "                                        texts=texts, \n",
    "                                        dictionary=dictionary, \n",
    "                                        coherence='c_v')\n",
    "        coherence_values.append(coherencemodel.get_coherence())\n",
    "        perplexity_values.append(model.log_perplexity(corpus))\n",
    "    return model_list, coherence_values, perplexity_values\n",
    "\n",
    "# Training models\n",
    "model_list, coherence_values, perplexity_values = compute_coherence_values(\n",
    "                                                        dictionary=dictionary, \n",
    "                                                        corpus=bow_corpus, \n",
    "                                                        texts=normalize_corpus_bigram, \n",
    "                                                        start=2, limit=40, \n",
    "                                                        step=6)"
   ]
  },
  {
   "cell_type": "code",
   "execution_count": 122,
   "metadata": {
    "ExecuteTime": {
     "end_time": "2020-04-12T03:19:58.075382Z",
     "start_time": "2020-04-12T03:19:57.407772Z"
    }
   },
   "outputs": [
    {
     "data": {
      "image/png": "[encoded data removed]",
      "text/plain": [
       "<Figure size 432x288 with 1 Axes>"
      ]
     },
     "metadata": {
      "needs_background": "light"
     },
     "output_type": "display_data"
    }
   ],
   "source": [
    "# Evaluating models' performance\n",
    "limit=40; start=2; step=6;\n",
    "x = range(start, limit, step)\n",
    "plt.plot(x, coherence_values)\n",
    "plt.title('Model Performance')\n",
    "plt.xlabel(\"Num Topics\")\n",
    "plt.ylabel(\"Coherence score\")\n",
    "plt.legend((\"coherence_values\"), loc='best')\n",
    "plt.show()"
   ]
  },
  {
   "cell_type": "markdown",
   "metadata": {},
   "source": [
    "The highest coherence value is around 15. I'll pick this number of topics to differentiate our text corpus."
   ]
  },
  {
   "cell_type": "code",
   "execution_count": 82,
   "metadata": {
    "ExecuteTime": {
     "end_time": "2020-04-12T01:35:52.827339Z",
     "start_time": "2020-04-12T01:35:52.822371Z"
    }
   },
   "outputs": [],
   "source": [
    "optimal_model = model_list[2]"
   ]
  },
  {
   "cell_type": "markdown",
   "metadata": {},
   "source": [
    "## Evaluating"
   ]
  },
  {
   "cell_type": "markdown",
   "metadata": {},
   "source": [
    "### Finding the dominant topic in each sentence\n",
    "\n",
    "Firstly, we'll take a look at the distribution of topics in our text corpus."
   ]
  },
  {
   "cell_type": "code",
   "execution_count": 138,
   "metadata": {
    "ExecuteTime": {
     "end_time": "2020-04-12T03:51:45.834139Z",
     "start_time": "2020-04-12T03:51:45.804187Z"
    }
   },
   "outputs": [
    {
     "data": {
      "text/html": [
       "<div>\n",
       "<style scoped>\n",
       "    .dataframe tbody tr th:only-of-type {\n",
       "        vertical-align: middle;\n",
       "    }\n",
       "\n",
       "    .dataframe tbody tr th {\n",
       "        vertical-align: top;\n",
       "    }\n",
       "\n",
       "    .dataframe thead th {\n",
       "        text-align: right;\n",
       "    }\n",
       "</style>\n",
       "<table border=\"1\" class=\"dataframe\">\n",
       "  <thead>\n",
       "    <tr style=\"text-align: right;\">\n",
       "      <th></th>\n",
       "      <th>Dominant_Topic</th>\n",
       "      <th>Topic_Keywords</th>\n",
       "      <th>Num_Documents</th>\n",
       "      <th>Perc_Documents</th>\n",
       "    </tr>\n",
       "  </thead>\n",
       "  <tbody>\n",
       "    <tr>\n",
       "      <th>1.0</th>\n",
       "      <td>6.0</td>\n",
       "      <td>circuit, chip, neuron, voltage, current, analo...</td>\n",
       "      <td>251.0</td>\n",
       "      <td>0.1443</td>\n",
       "    </tr>\n",
       "    <tr>\n",
       "      <th>4.0</th>\n",
       "      <td>11.0</td>\n",
       "      <td>node, bound, let, theorem, class, size, probab...</td>\n",
       "      <td>203.0</td>\n",
       "      <td>0.1167</td>\n",
       "    </tr>\n",
       "    <tr>\n",
       "      <th>2.0</th>\n",
       "      <td>5.0</td>\n",
       "      <td>neuron, state, pattern, dynamic, equation, mem...</td>\n",
       "      <td>180.0</td>\n",
       "      <td>0.1034</td>\n",
       "    </tr>\n",
       "    <tr>\n",
       "      <th>3.0</th>\n",
       "      <td>5.0</td>\n",
       "      <td>neuron, state, pattern, dynamic, equation, mem...</td>\n",
       "      <td>132.0</td>\n",
       "      <td>0.0759</td>\n",
       "    </tr>\n",
       "    <tr>\n",
       "      <th>10.0</th>\n",
       "      <td>6.0</td>\n",
       "      <td>circuit, chip, neuron, voltage, current, analo...</td>\n",
       "      <td>131.0</td>\n",
       "      <td>0.0753</td>\n",
       "    </tr>\n",
       "    <tr>\n",
       "      <th>9.0</th>\n",
       "      <td>13.0</td>\n",
       "      <td>neuron, cell, spike, response, firing, activit...</td>\n",
       "      <td>127.0</td>\n",
       "      <td>0.0730</td>\n",
       "    </tr>\n",
       "    <tr>\n",
       "      <th>11.0</th>\n",
       "      <td>13.0</td>\n",
       "      <td>neuron, cell, spike, response, firing, activit...</td>\n",
       "      <td>113.0</td>\n",
       "      <td>0.0649</td>\n",
       "    </tr>\n",
       "    <tr>\n",
       "      <th>13.0</th>\n",
       "      <td>11.0</td>\n",
       "      <td>node, bound, let, theorem, class, size, probab...</td>\n",
       "      <td>112.0</td>\n",
       "      <td>0.0644</td>\n",
       "    </tr>\n",
       "    <tr>\n",
       "      <th>6.0</th>\n",
       "      <td>2.0</td>\n",
       "      <td>image, visual, motion, object, cell, response,...</td>\n",
       "      <td>103.0</td>\n",
       "      <td>0.0592</td>\n",
       "    </tr>\n",
       "    <tr>\n",
       "      <th>5.0</th>\n",
       "      <td>11.0</td>\n",
       "      <td>node, bound, let, theorem, class, size, probab...</td>\n",
       "      <td>101.0</td>\n",
       "      <td>0.0580</td>\n",
       "    </tr>\n",
       "    <tr>\n",
       "      <th>8.0</th>\n",
       "      <td>13.0</td>\n",
       "      <td>neuron, cell, spike, response, firing, activit...</td>\n",
       "      <td>101.0</td>\n",
       "      <td>0.0580</td>\n",
       "    </tr>\n",
       "    <tr>\n",
       "      <th>7.0</th>\n",
       "      <td>7.0</td>\n",
       "      <td>unit, pattern, layer, representation, activity...</td>\n",
       "      <td>92.0</td>\n",
       "      <td>0.0529</td>\n",
       "    </tr>\n",
       "    <tr>\n",
       "      <th>12.0</th>\n",
       "      <td>6.0</td>\n",
       "      <td>circuit, chip, neuron, voltage, current, analo...</td>\n",
       "      <td>56.0</td>\n",
       "      <td>0.0322</td>\n",
       "    </tr>\n",
       "    <tr>\n",
       "      <th>0.0</th>\n",
       "      <td>11.0</td>\n",
       "      <td>node, bound, let, theorem, class, size, probab...</td>\n",
       "      <td>38.0</td>\n",
       "      <td>0.0218</td>\n",
       "    </tr>\n",
       "  </tbody>\n",
       "</table>\n",
       "</div>"
      ],
      "text/plain": [
       "      Dominant_Topic                                     Topic_Keywords  \\\n",
       "1.0              6.0  circuit, chip, neuron, voltage, current, analo...   \n",
       "4.0             11.0  node, bound, let, theorem, class, size, probab...   \n",
       "2.0              5.0  neuron, state, pattern, dynamic, equation, mem...   \n",
       "3.0              5.0  neuron, state, pattern, dynamic, equation, mem...   \n",
       "10.0             6.0  circuit, chip, neuron, voltage, current, analo...   \n",
       "9.0             13.0  neuron, cell, spike, response, firing, activit...   \n",
       "11.0            13.0  neuron, cell, spike, response, firing, activit...   \n",
       "13.0            11.0  node, bound, let, theorem, class, size, probab...   \n",
       "6.0              2.0  image, visual, motion, object, cell, response,...   \n",
       "5.0             11.0  node, bound, let, theorem, class, size, probab...   \n",
       "8.0             13.0  neuron, cell, spike, response, firing, activit...   \n",
       "7.0              7.0  unit, pattern, layer, representation, activity...   \n",
       "12.0             6.0  circuit, chip, neuron, voltage, current, analo...   \n",
       "0.0             11.0  node, bound, let, theorem, class, size, probab...   \n",
       "\n",
       "      Num_Documents  Perc_Documents  \n",
       "1.0           251.0          0.1443  \n",
       "4.0           203.0          0.1167  \n",
       "2.0           180.0          0.1034  \n",
       "3.0           132.0          0.0759  \n",
       "10.0          131.0          0.0753  \n",
       "9.0           127.0          0.0730  \n",
       "11.0          113.0          0.0649  \n",
       "13.0          112.0          0.0644  \n",
       "6.0           103.0          0.0592  \n",
       "5.0           101.0          0.0580  \n",
       "8.0           101.0          0.0580  \n",
       "7.0            92.0          0.0529  \n",
       "12.0           56.0          0.0322  \n",
       "0.0            38.0          0.0218  "
      ]
     },
     "execution_count": 138,
     "metadata": {},
     "output_type": "execute_result"
    }
   ],
   "source": [
    "topic_counts = df_topic_sents_keywords['Dominant_Topic'].value_counts()\n",
    "\n",
    "# Percentage of Documents for Each Topic\n",
    "topic_contribution = round(topic_counts/topic_counts.sum(), 4)\n",
    "# Topic Number and Keywords\n",
    "topic_num_keywords = df_topic_sents_keywords[['Dominant_Topic', 'Topic_Keywords']]\n",
    "# Concatenate Column wise\n",
    "df_dominant_topics = pd.concat([topic_num_keywords, topic_counts, topic_contribution], axis=1)\n",
    "# Change Column names\n",
    "df_dominant_topics.columns = ['Dominant_Topic', 'Topic_Keywords', 'Num_Documents', 'Perc_Documents']\n",
    "\n",
    "# Show\n",
    "df_dominant_topics = df_dominant_topics.head(14)\n",
    "\n",
    "df_dominant_topics.sort_values(['Num_Documents'], ascending=False)"
   ]
  },
  {
   "cell_type": "markdown",
   "metadata": {},
   "source": [
    "Topic 6 dominates most frequently in our corpus with 251 appearances. The least frequently dominant is topic 0 with 38 appearances. If we wish to understand what each topic is. The easiest way is to look at the most dominant topic of a document and its texts. We'll find the most dominant topic in each document based on the percentage contribution in that document."
   ]
  },
  {
   "cell_type": "code",
   "execution_count": 87,
   "metadata": {
    "ExecuteTime": {
     "end_time": "2020-04-12T01:59:56.064658Z",
     "start_time": "2020-04-12T01:59:56.056679Z"
    }
   },
   "outputs": [],
   "source": [
    "def format_topics_sentences(ldamodel=lda_model, corpus=bow_corpus, texts=normalize_corpus_bigram):\n",
    "    # Init output\n",
    "    sent_topics_df = pd.DataFrame()\n",
    "\n",
    "    # Get main topic in each document\n",
    "    for i, row in enumerate(ldamodel[corpus]):\n",
    "        row = sorted(row, key=lambda x: (x[1]), reverse=True)\n",
    "        # Get the Dominant topic, Perc Contribution and Keywords for each document\n",
    "        for j, (topic_num, prop_topic) in enumerate(row):\n",
    "            if j == 0:  # => dominant topic\n",
    "                wp = ldamodel.show_topic(topic_num)\n",
    "                topic_keywords = \", \".join([word for word, prop in wp])\n",
    "                sent_topics_df = sent_topics_df.append(pd.Series([int(topic_num), round(prop_topic,4), topic_keywords]), ignore_index=True)\n",
    "            else:\n",
    "                break\n",
    "    sent_topics_df.columns = ['Dominant_Topic', 'Perc_Contribution', 'Topic_Keywords']\n",
    "\n",
    "    # Add original text to the end of the output\n",
    "    contents = pd.Series(texts)\n",
    "    sent_topics_df = pd.concat([sent_topics_df, contents], axis=1)\n",
    "    return(sent_topics_df)"
   ]
  },
  {
   "cell_type": "code",
   "execution_count": 89,
   "metadata": {
    "ExecuteTime": {
     "end_time": "2020-04-12T02:00:53.527201Z",
     "start_time": "2020-04-12T02:00:36.687390Z"
    }
   },
   "outputs": [
    {
     "data": {
      "text/html": [
       "<div>\n",
       "<style scoped>\n",
       "    .dataframe tbody tr th:only-of-type {\n",
       "        vertical-align: middle;\n",
       "    }\n",
       "\n",
       "    .dataframe tbody tr th {\n",
       "        vertical-align: top;\n",
       "    }\n",
       "\n",
       "    .dataframe thead th {\n",
       "        text-align: right;\n",
       "    }\n",
       "</style>\n",
       "<table border=\"1\" class=\"dataframe\">\n",
       "  <thead>\n",
       "    <tr style=\"text-align: right;\">\n",
       "      <th></th>\n",
       "      <th>Document_No</th>\n",
       "      <th>Dominant_Topic</th>\n",
       "      <th>Topic_Perc_Contrib</th>\n",
       "      <th>Keywords</th>\n",
       "      <th>Text</th>\n",
       "    </tr>\n",
       "  </thead>\n",
       "  <tbody>\n",
       "    <tr>\n",
       "      <th>0</th>\n",
       "      <td>0</td>\n",
       "      <td>11.0</td>\n",
       "      <td>0.5136</td>\n",
       "      <td>node, bound, let, theorem, class, size, probab...</td>\n",
       "      <td>[connectivity, versus, entropy, yaser, abu_mos...</td>\n",
       "    </tr>\n",
       "    <tr>\n",
       "      <th>1</th>\n",
       "      <td>1</td>\n",
       "      <td>6.0</td>\n",
       "      <td>0.5302</td>\n",
       "      <td>circuit, chip, neuron, voltage, current, analo...</td>\n",
       "      <td>[stochastic, learning, network, electronic, im...</td>\n",
       "    </tr>\n",
       "    <tr>\n",
       "      <th>2</th>\n",
       "      <td>2</td>\n",
       "      <td>5.0</td>\n",
       "      <td>0.4953</td>\n",
       "      <td>neuron, state, pattern, dynamic, equation, mem...</td>\n",
       "      <td>[learning, general, network, amir, atiya, depa...</td>\n",
       "    </tr>\n",
       "    <tr>\n",
       "      <th>3</th>\n",
       "      <td>3</td>\n",
       "      <td>5.0</td>\n",
       "      <td>0.3548</td>\n",
       "      <td>neuron, state, pattern, dynamic, equation, mem...</td>\n",
       "      <td>[artificial_neural, network, spatio_temporal, ...</td>\n",
       "    </tr>\n",
       "    <tr>\n",
       "      <th>4</th>\n",
       "      <td>4</td>\n",
       "      <td>11.0</td>\n",
       "      <td>0.5750</td>\n",
       "      <td>node, bound, let, theorem, class, size, probab...</td>\n",
       "      <td>[property, network, neuron, like, element, pie...</td>\n",
       "    </tr>\n",
       "    <tr>\n",
       "      <th>5</th>\n",
       "      <td>5</td>\n",
       "      <td>11.0</td>\n",
       "      <td>0.2912</td>\n",
       "      <td>node, bound, let, theorem, class, size, probab...</td>\n",
       "      <td>[supervised_learning, probability_distribution...</td>\n",
       "    </tr>\n",
       "    <tr>\n",
       "      <th>6</th>\n",
       "      <td>6</td>\n",
       "      <td>2.0</td>\n",
       "      <td>0.7914</td>\n",
       "      <td>image, visual, motion, object, cell, response,...</td>\n",
       "      <td>[centric, model, orientation, map, primary_vis...</td>\n",
       "    </tr>\n",
       "    <tr>\n",
       "      <th>7</th>\n",
       "      <td>7</td>\n",
       "      <td>7.0</td>\n",
       "      <td>0.3334</td>\n",
       "      <td>unit, pattern, layer, representation, activity...</td>\n",
       "      <td>[analysis, comparison, different, learning, al...</td>\n",
       "    </tr>\n",
       "    <tr>\n",
       "      <th>8</th>\n",
       "      <td>8</td>\n",
       "      <td>13.0</td>\n",
       "      <td>0.9997</td>\n",
       "      <td>neuron, cell, spike, response, firing, activit...</td>\n",
       "      <td>[simulation, suggest, information_processing, ...</td>\n",
       "    </tr>\n",
       "    <tr>\n",
       "      <th>9</th>\n",
       "      <td>9</td>\n",
       "      <td>13.0</td>\n",
       "      <td>0.4007</td>\n",
       "      <td>neuron, cell, spike, response, firing, activit...</td>\n",
       "      <td>[optimal, neural, spike, classification, amir,...</td>\n",
       "    </tr>\n",
       "  </tbody>\n",
       "</table>\n",
       "</div>"
      ],
      "text/plain": [
       "   Document_No  Dominant_Topic  Topic_Perc_Contrib  \\\n",
       "0            0            11.0              0.5136   \n",
       "1            1             6.0              0.5302   \n",
       "2            2             5.0              0.4953   \n",
       "3            3             5.0              0.3548   \n",
       "4            4            11.0              0.5750   \n",
       "5            5            11.0              0.2912   \n",
       "6            6             2.0              0.7914   \n",
       "7            7             7.0              0.3334   \n",
       "8            8            13.0              0.9997   \n",
       "9            9            13.0              0.4007   \n",
       "\n",
       "                                            Keywords  \\\n",
       "0  node, bound, let, theorem, class, size, probab...   \n",
       "1  circuit, chip, neuron, voltage, current, analo...   \n",
       "2  neuron, state, pattern, dynamic, equation, mem...   \n",
       "3  neuron, state, pattern, dynamic, equation, mem...   \n",
       "4  node, bound, let, theorem, class, size, probab...   \n",
       "5  node, bound, let, theorem, class, size, probab...   \n",
       "6  image, visual, motion, object, cell, response,...   \n",
       "7  unit, pattern, layer, representation, activity...   \n",
       "8  neuron, cell, spike, response, firing, activit...   \n",
       "9  neuron, cell, spike, response, firing, activit...   \n",
       "\n",
       "                                                Text  \n",
       "0  [connectivity, versus, entropy, yaser, abu_mos...  \n",
       "1  [stochastic, learning, network, electronic, im...  \n",
       "2  [learning, general, network, amir, atiya, depa...  \n",
       "3  [artificial_neural, network, spatio_temporal, ...  \n",
       "4  [property, network, neuron, like, element, pie...  \n",
       "5  [supervised_learning, probability_distribution...  \n",
       "6  [centric, model, orientation, map, primary_vis...  \n",
       "7  [analysis, comparison, different, learning, al...  \n",
       "8  [simulation, suggest, information_processing, ...  \n",
       "9  [optimal, neural, spike, classification, amir,...  "
      ]
     },
     "execution_count": 89,
     "metadata": {},
     "output_type": "execute_result"
    }
   ],
   "source": [
    "# Get most dominant topic\n",
    "df_topic_sents_keywords = format_topics_sentences(ldamodel=optimal_model, corpus=bow_corpus, texts=normalize_corpus_bigram)\n",
    "df_dominant_topic = df_topic_sents_keywords.reset_index()\n",
    "df_dominant_topic.columns = ['Document_No', 'Dominant_Topic', 'Topic_Perc_Contrib', 'Keywords', 'Text']\n",
    "df_dominant_topic.head(10)"
   ]
  },
  {
   "cell_type": "markdown",
   "metadata": {},
   "source": [
    "This dataframe shows us the dominant topic in each document (represented by the Text column). It also shows us the dominant keywords for each topic. Based on the keywords and their respective text we could understand certain topics. Let's see how we can interpret them."
   ]
  },
  {
   "cell_type": "code",
   "execution_count": 136,
   "metadata": {
    "ExecuteTime": {
     "end_time": "2020-04-12T03:51:21.803317Z",
     "start_time": "2020-04-12T03:51:21.799357Z"
    }
   },
   "outputs": [
    {
     "name": "stdout",
     "output_type": "stream",
     "text": [
      "Keywords for topic 11: node, bound, let, theorem, class, size, probability, threshold, proof, complexity\n"
     ]
    }
   ],
   "source": [
    "print(f'Keywords for topic 11: {df_dominant_topic[\"Keywords\"][0]}')"
   ]
  },
  {
   "cell_type": "markdown",
   "metadata": {},
   "source": [
    "Topic 11 mentions node, bound, theorem, proof, etc. It looks like this is a theoretical paper that is trying to prove or obtain an optimal bound for something. We can peek further by looking at the respective document."
   ]
  },
  {
   "cell_type": "code",
   "execution_count": 137,
   "metadata": {
    "ExecuteTime": {
     "end_time": "2020-04-12T03:51:24.778891Z",
     "start_time": "2020-04-12T03:51:24.773693Z"
    }
   },
   "outputs": [
    {
     "name": "stdout",
     "output_type": "stream",
     "text": [
      "First 50 words for topic 11: ['connectivity', 'versus', 'entropy', 'yaser', 'abu_mostafa', 'california_institute', 'technology_pasadena', 'ca_abstract', 'doe', 'connectivity', 'neural_network', 'number', 'synapsis', 'per', 'neuron', 'relate', 'complexity', 'problem', 'handle', 'measured', 'entropy', 'switching', 'theory', 'would', 'suggest', 'relation', 'since', 'boolean_function', 'implemented', 'using', 'circuit', 'low', 'connectivity', 'using', 'two', 'input', 'nand', 'gate', 'however', 'network', 'learns', 'problem', 'example', 'using', 'local', 'learning_rule', 'prove', 'entropy', 'problem', 'becomes']\n"
     ]
    }
   ],
   "source": [
    "print(f'First 50 words for topic 11: {df_dominant_topic[\"Text\"][0][0:50]}')"
   ]
  },
  {
   "cell_type": "markdown",
   "metadata": {},
   "source": [
    "So this document is about solving a problem about the relationship of neurons in a neural network to achieve global optimum. As shown in the dataframe above, each document can contain many topics. Document 0 has topic 11 as the most dominant. However, topic 11 only contributes ~50% to the total topics of document 0. We can try to understand each topic by finding the document where they contribute most out of all documents in the text corpus."
   ]
  },
  {
   "cell_type": "code",
   "execution_count": 107,
   "metadata": {
    "ExecuteTime": {
     "end_time": "2020-04-12T02:38:55.627786Z",
     "start_time": "2020-04-12T02:38:55.569930Z"
    }
   },
   "outputs": [
    {
     "data": {
      "text/html": [
       "<div>\n",
       "<style scoped>\n",
       "    .dataframe tbody tr th:only-of-type {\n",
       "        vertical-align: middle;\n",
       "    }\n",
       "\n",
       "    .dataframe tbody tr th {\n",
       "        vertical-align: top;\n",
       "    }\n",
       "\n",
       "    .dataframe thead th {\n",
       "        text-align: right;\n",
       "    }\n",
       "</style>\n",
       "<table border=\"1\" class=\"dataframe\">\n",
       "  <thead>\n",
       "    <tr style=\"text-align: right;\">\n",
       "      <th></th>\n",
       "      <th>Topic_Num</th>\n",
       "      <th>Topic_Perc_Contrib</th>\n",
       "      <th>Keywords</th>\n",
       "      <th>Text</th>\n",
       "    </tr>\n",
       "  </thead>\n",
       "  <tbody>\n",
       "    <tr>\n",
       "      <th>0</th>\n",
       "      <td>0.0</td>\n",
       "      <td>0.8865</td>\n",
       "      <td>kernel, character, constraint, solution, suppo...</td>\n",
       "      <td>[geometric, interpretation, svm, classifier, d...</td>\n",
       "    </tr>\n",
       "    <tr>\n",
       "      <th>1</th>\n",
       "      <td>1.0</td>\n",
       "      <td>0.9996</td>\n",
       "      <td>distribution, variable, approximation, prior, ...</td>\n",
       "      <td>[nonlinear, markov, network, continuous_variab...</td>\n",
       "    </tr>\n",
       "    <tr>\n",
       "      <th>2</th>\n",
       "      <td>2.0</td>\n",
       "      <td>0.9996</td>\n",
       "      <td>image, visual, motion, object, cell, response,...</td>\n",
       "      <td>[neural, dynamic, motion, segmentation, groupi...</td>\n",
       "    </tr>\n",
       "    <tr>\n",
       "      <th>3</th>\n",
       "      <td>3.0</td>\n",
       "      <td>0.9996</td>\n",
       "      <td>control, dynamic, equation, vector, trajectory...</td>\n",
       "      <td>[integrated, architecture, adaptive, neural_ne...</td>\n",
       "    </tr>\n",
       "    <tr>\n",
       "      <th>4</th>\n",
       "      <td>4.0</td>\n",
       "      <td>0.9996</td>\n",
       "      <td>unit, training, word, state, sequence, rule, t...</td>\n",
       "      <td>[recurrent_cascade, correlation, architecture,...</td>\n",
       "    </tr>\n",
       "    <tr>\n",
       "      <th>5</th>\n",
       "      <td>5.0</td>\n",
       "      <td>0.9613</td>\n",
       "      <td>neuron, state, pattern, dynamic, equation, mem...</td>\n",
       "      <td>[dynamic, analog, neural_network, time_delay, ...</td>\n",
       "    </tr>\n",
       "    <tr>\n",
       "      <th>6</th>\n",
       "      <td>6.0</td>\n",
       "      <td>0.9996</td>\n",
       "      <td>circuit, chip, neuron, voltage, current, analo...</td>\n",
       "      <td>[satyanarayana, tsividis, graf, reconfigurable...</td>\n",
       "    </tr>\n",
       "    <tr>\n",
       "      <th>7</th>\n",
       "      <td>7.0</td>\n",
       "      <td>0.9995</td>\n",
       "      <td>unit, pattern, layer, representation, activity...</td>\n",
       "      <td>[topography, ocular_dominance, positive, corre...</td>\n",
       "    </tr>\n",
       "    <tr>\n",
       "      <th>8</th>\n",
       "      <td>8.0</td>\n",
       "      <td>0.9996</td>\n",
       "      <td>training, estimate, prediction, distribution, ...</td>\n",
       "      <td>[bias_variance, combination, least_square, est...</td>\n",
       "    </tr>\n",
       "    <tr>\n",
       "      <th>9</th>\n",
       "      <td>9.0</td>\n",
       "      <td>0.9995</td>\n",
       "      <td>image, classifier, class, feature, classificat...</td>\n",
       "      <td>[boundary, hunting, radial_basis, function, cl...</td>\n",
       "    </tr>\n",
       "    <tr>\n",
       "      <th>10</th>\n",
       "      <td>10.0</td>\n",
       "      <td>0.9997</td>\n",
       "      <td>state, action, policy, control, reinforcement_...</td>\n",
       "      <td>[finding, structure, reinforcement_learning, s...</td>\n",
       "    </tr>\n",
       "    <tr>\n",
       "      <th>11</th>\n",
       "      <td>11.0</td>\n",
       "      <td>0.9996</td>\n",
       "      <td>node, bound, let, theorem, class, size, probab...</td>\n",
       "      <td>[power, approximating, comparison, activation_...</td>\n",
       "    </tr>\n",
       "    <tr>\n",
       "      <th>12</th>\n",
       "      <td>12.0</td>\n",
       "      <td>0.8939</td>\n",
       "      <td>noise, code, vector, signal, filter, linear, m...</td>\n",
       "      <td>[regular, irregular, gallager, type, error_cor...</td>\n",
       "    </tr>\n",
       "    <tr>\n",
       "      <th>13</th>\n",
       "      <td>13.0</td>\n",
       "      <td>0.9997</td>\n",
       "      <td>neuron, cell, spike, response, firing, activit...</td>\n",
       "      <td>[simulation, suggest, information_processing, ...</td>\n",
       "    </tr>\n",
       "  </tbody>\n",
       "</table>\n",
       "</div>"
      ],
      "text/plain": [
       "    Topic_Num  Topic_Perc_Contrib  \\\n",
       "0         0.0              0.8865   \n",
       "1         1.0              0.9996   \n",
       "2         2.0              0.9996   \n",
       "3         3.0              0.9996   \n",
       "4         4.0              0.9996   \n",
       "5         5.0              0.9613   \n",
       "6         6.0              0.9996   \n",
       "7         7.0              0.9995   \n",
       "8         8.0              0.9996   \n",
       "9         9.0              0.9995   \n",
       "10       10.0              0.9997   \n",
       "11       11.0              0.9996   \n",
       "12       12.0              0.8939   \n",
       "13       13.0              0.9997   \n",
       "\n",
       "                                             Keywords  \\\n",
       "0   kernel, character, constraint, solution, suppo...   \n",
       "1   distribution, variable, approximation, prior, ...   \n",
       "2   image, visual, motion, object, cell, response,...   \n",
       "3   control, dynamic, equation, vector, trajectory...   \n",
       "4   unit, training, word, state, sequence, rule, t...   \n",
       "5   neuron, state, pattern, dynamic, equation, mem...   \n",
       "6   circuit, chip, neuron, voltage, current, analo...   \n",
       "7   unit, pattern, layer, representation, activity...   \n",
       "8   training, estimate, prediction, distribution, ...   \n",
       "9   image, classifier, class, feature, classificat...   \n",
       "10  state, action, policy, control, reinforcement_...   \n",
       "11  node, bound, let, theorem, class, size, probab...   \n",
       "12  noise, code, vector, signal, filter, linear, m...   \n",
       "13  neuron, cell, spike, response, firing, activit...   \n",
       "\n",
       "                                                 Text  \n",
       "0   [geometric, interpretation, svm, classifier, d...  \n",
       "1   [nonlinear, markov, network, continuous_variab...  \n",
       "2   [neural, dynamic, motion, segmentation, groupi...  \n",
       "3   [integrated, architecture, adaptive, neural_ne...  \n",
       "4   [recurrent_cascade, correlation, architecture,...  \n",
       "5   [dynamic, analog, neural_network, time_delay, ...  \n",
       "6   [satyanarayana, tsividis, graf, reconfigurable...  \n",
       "7   [topography, ocular_dominance, positive, corre...  \n",
       "8   [bias_variance, combination, least_square, est...  \n",
       "9   [boundary, hunting, radial_basis, function, cl...  \n",
       "10  [finding, structure, reinforcement_learning, s...  \n",
       "11  [power, approximating, comparison, activation_...  \n",
       "12  [regular, irregular, gallager, type, error_cor...  \n",
       "13  [simulation, suggest, information_processing, ...  "
      ]
     },
     "execution_count": 107,
     "metadata": {},
     "output_type": "execute_result"
    }
   ],
   "source": [
    "sent_topics_sorteddf_gensim = pd.DataFrame()\n",
    "sent_topics_outdf_grpd = df_topic_sents_keywords.groupby('Dominant_Topic')\n",
    "for i, grp in sent_topics_outdf_grpd:\n",
    "    sent_topics_sorteddf_gensim = pd.concat([sent_topics_sorteddf_gensim, \n",
    "                                             grp.sort_values(['Perc_Contribution'], ascending=[0]).head(1)], \n",
    "                                            axis=0)\n",
    "    \n",
    "sent_topics_sorteddf_gensim.reset_index(drop=True, inplace=True)\n",
    "\n",
    "# Format\n",
    "sent_topics_sorteddf_gensim.columns = ['Topic_Num', \"Topic_Perc_Contrib\", \"Keywords\", \"Text\"]\n",
    "\n",
    "# Show\n",
    "sent_topics_sorteddf_gensim    "
   ]
  },
  {
   "cell_type": "markdown",
   "metadata": {},
   "source": [
    "Let's peek into topic 11 one again. This time it contriutes to 99% of the respective document. Let's see what this document is about."
   ]
  },
  {
   "cell_type": "code",
   "execution_count": 135,
   "metadata": {
    "ExecuteTime": {
     "end_time": "2020-04-12T03:46:54.191198Z",
     "start_time": "2020-04-12T03:46:54.185948Z"
    }
   },
   "outputs": [
    {
     "name": "stdout",
     "output_type": "stream",
     "text": [
      "First sampled texts in the document ['error_correcting', 'code', 'investigated', 'via', 'method', 'statistical_physic', 'transmitted', 'codeword', 'comprises', 'product', 'original', 'sage', 'bit', 'selected', 'two', 'randomly', 'constructed', 'sparse', 'matrix', 'number', 'non_zero', 'row_column', 'element', 'matrix', 'constitutes', 'family', 'code', 'show', 'shannon', 'channel', 'capacity', 'may', 'saturated', 'equilibrium', 'many', 'regular', 'code', 'slightly', 'lower', 'performance', 'obtained', 'others', 'may', 'higher', 'practical', 'relevance', 'decoding', 'aspect', 'con_sidered', 'employing', 'tap', 'approach', 'identical', 'commonly_used', 'belief_propagation', 'based', 'decoding', 'show', 'irregular', 'code', 'may', 'saturate', 'shannon', 'capacity', 'improved', 'dynamical', 'property', 'introduction', 'ever', 'increasing']\n"
     ]
    }
   ],
   "source": [
    "print(f'First sampled texts in the document {sent_topics_sorteddf_gensim[\"Text\"][12][30:100]}')"
   ]
  },
  {
   "cell_type": "markdown",
   "metadata": {},
   "source": [
    "This topic is also about finding global optimum. Nevertheless, it differs from the previous article because this article is comparing some methods through experimenting. While as we talked about, the previous article adopts a proof-based approach."
   ]
  },
  {
   "cell_type": "markdown",
   "metadata": {},
   "source": [
    "## Conclusion\n",
    "\n",
    "In this notebook, we perform topic modeling on the NIPS conferences papers by using LDA from gensim. We look at how to tune in the number of topics to get the most represented ones for the text corpus. We found that 15 different topics would be most appropriate for the research papers. We also looked at how to interpret the topics from our text corpus. Our result, nonetheless, can be improved by using the Mallet model from gensim to perform our LDA analysis as it produces more accurate results."
   ]
  }
 ],
 "metadata": {
  "kernelspec": {
   "display_name": "Python 3.6.10 64-bit ('nlpiaenv': conda)",
   "language": "python",
   "name": "python361064bitnlpiaenvconda61f04f74d93d4de799586f1d9c3027f4"
  },
  "language_info": {
   "codemirror_mode": {
    "name": "ipython",
    "version": 3
   },
   "file_extension": ".py",
   "mimetype": "text/x-python",
   "name": "python",
   "nbconvert_exporter": "python",
   "pygments_lexer": "ipython3",
   "version": "3.6.10"
  },
  "toc": {
   "nav_menu": {},
   "number_sections": true,
   "sideBar": true,
   "skip_h1_title": false,
   "toc_cell": false,
   "toc_position": {},
   "toc_section_display": "block",
   "toc_window_display": false
  },
  "varInspector": {
   "cols": {
    "lenName": 16,
    "lenType": 16,
    "lenVar": 40
   },
   "kernels_config": {
    "python": {
     "delete_cmd_postfix": "",
     "delete_cmd_prefix": "del ",
     "library": "var_list.py",
     "varRefreshCmd": "print(var_dic_list())"
    },
    "r": {
     "delete_cmd_postfix": ") ",
     "delete_cmd_prefix": "rm(",
     "library": "var_list.r",
     "varRefreshCmd": "cat(var_dic_list()) "
    }
   },
   "types_to_exclude": [
    "module",
    "function",
    "builtin_function_or_method",
    "instance",
    "_Feature"
   ],
   "window_display": false
  }
 },
 "nbformat": 4,
 "nbformat_minor": 4
}
